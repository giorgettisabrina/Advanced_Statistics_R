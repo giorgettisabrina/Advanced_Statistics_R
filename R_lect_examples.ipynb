{
 "cells": [
  {
   "cell_type": "markdown",
   "id": "assumed-lodging",
   "metadata": {},
   "source": [
    "# R examples from lectures"
   ]
  },
  {
   "cell_type": "markdown",
   "id": "julian-milan",
   "metadata": {},
   "source": [
    "## Birthday problem\n",
    "\n",
    "In a large room, full of people, how many of them do you have to ask before thereis a 50% chance that any of two, ore more, share a common birthday ?\n",
    "\n",
    "The probability that people share a birthday can be expressed as: \n",
    "\n",
    "$$P(bday \\geq 1)=1-prob of no share dbday $$\n",
    "\n",
    "this because it's easier to calculate the probability that people do not share the same date, this probability is given by: \n",
    "\n",
    "$$ \\frac{A}{B}=\\frac{\\text{combine r people not to share a common bday assuming n=365 birthday/year, equally probable}}{way \\; of \\; assigning \\; n \\; birthday \\; to \\; r \\; people }$$\n",
    "\n",
    "$$ A= \\frac{n!}{(n-r)!} \\; \\text{permutation no rep allowed} \\\\$$\n",
    "$$ B= n^r \\; \\text{permutation rep allowed}$$\n",
    "\n",
    "Therefore \n",
    "$$ P(bday \\geq 1)=1-\\frac{n!}{(n-r)!} \\cdot \\frac{1}{n^r} $$"
   ]
  },
  {
   "cell_type": "code",
   "execution_count": 2,
   "id": "worse-highland",
   "metadata": {},
   "outputs": [
    {
     "name": "stderr",
     "output_type": "stream",
     "text": [
      "k: 2 pb( 2 ): 0.00292\n",
      "\n",
      "k: 3 pb( 3 ): 0.00846\n",
      "\n",
      "k: 4 pb( 4 ): 0.01659\n",
      "\n",
      "k: 5 pb( 5 ): 0.02737\n",
      "\n",
      "k: 6 pb( 6 ): 0.04022\n",
      "\n",
      "k: 7 pb( 7 ): 0.05581\n",
      "\n",
      "k: 8 pb( 8 ): 0.07422\n",
      "\n",
      "k: 9 pb( 9 ): 0.09652\n",
      "\n",
      "k: 10 pb( 10 ): 0.11753\n",
      "\n",
      "k: 11 pb( 11 ): 0.1424\n",
      "\n",
      "k: 12 pb( 12 ): 0.16872\n",
      "\n",
      "k: 13 pb( 13 ): 0.19277\n",
      "\n",
      "k: 14 pb( 14 ): 0.22026\n",
      "\n",
      "k: 15 pb( 15 ): 0.25148\n",
      "\n",
      "k: 16 pb( 16 ): 0.28334\n",
      "\n",
      "k: 17 pb( 17 ): 0.31621\n",
      "\n",
      "k: 18 pb( 18 ): 0.34691\n",
      "\n",
      "k: 19 pb( 19 ): 0.38148\n",
      "\n",
      "k: 20 pb( 20 ): 0.41155\n",
      "\n",
      "k: 21 pb( 21 ): 0.44412\n",
      "\n",
      "k: 22 pb( 22 ): 0.47526\n",
      "\n",
      "k: 23 pb( 23 ): 0.5083\n",
      "\n",
      "k: 24 pb( 24 ): 0.53933\n",
      "\n",
      "k: 25 pb( 25 ): 0.57059\n",
      "\n",
      "k: 26 pb( 26 ): 0.60315\n",
      "\n",
      "k: 27 pb( 27 ): 0.62641\n",
      "\n",
      "k: 28 pb( 28 ): 0.65381\n",
      "\n",
      "k: 29 pb( 29 ): 0.67994\n",
      "\n",
      "k: 30 pb( 30 ): 0.70685\n",
      "\n",
      "k: 31 pb( 31 ): 0.73005\n",
      "\n",
      "k: 32 pb( 32 ): 0.75264\n",
      "\n",
      "k: 33 pb( 33 ): 0.77206\n",
      "\n",
      "k: 34 pb( 34 ): 0.79618\n",
      "\n",
      "k: 35 pb( 35 ): 0.81604\n",
      "\n",
      "k: 36 pb( 36 ): 0.83287\n",
      "\n",
      "k: 37 pb( 37 ): 0.85019\n",
      "\n",
      "k: 38 pb( 38 ): 0.86581\n",
      "\n",
      "k: 39 pb( 39 ): 0.87826\n",
      "\n",
      "k: 40 pb( 40 ): 0.89073\n",
      "\n",
      "k: 41 pb( 41 ): 0.90222\n",
      "\n",
      "k: 42 pb( 42 ): 0.91417\n",
      "\n",
      "k: 43 pb( 43 ): 0.92288\n",
      "\n",
      "k: 44 pb( 44 ): 0.93231\n",
      "\n",
      "k: 45 pb( 45 ): 0.94022\n",
      "\n",
      "k: 46 pb( 46 ): 0.94729\n",
      "\n",
      "k: 47 pb( 47 ): 0.95457\n",
      "\n",
      "k: 48 pb( 48 ): 0.96032\n",
      "\n",
      "k: 49 pb( 49 ): 0.96625\n",
      "\n",
      "k: 50 pb( 50 ): 0.97018\n",
      "\n",
      "Firstelementwithprob>0.5: 23\n",
      "\n"
     ]
    }
   ],
   "source": [
    "n_people_tot<-50\n",
    "pbday<-rep(0, n_people_tot)\n",
    "for(k in 2:n_people_tot) {\n",
    "    n_tests = 1E5; cb<-0\n",
    "    for(i in 1:n_tests){\n",
    "        bdays<-sample(1:365, k ,replace=TRUE)\n",
    "            if(length(bdays) >length(unique(bdays))){\n",
    "                cb = cb + 1 \n",
    "      }                                                    \n",
    "    }\n",
    "    pbday[k]<-cb/n_tests\n",
    "    message(paste(\"k:\",k,\"pb(\",k,\"):\",pbday[k]))\n",
    "}\n",
    "pfunc<-function(f, b)function(a) f(a,b)\n",
    "p50_index<-Position(pfunc(`>`,0.5),pbday)\n",
    "message(paste(\"Firstelementwithprob>0.5:\",p50_index))\n",
    "\n",
    "\n",
    "#MANCA PLOT\n",
    "\n"
   ]
  },
  {
   "cell_type": "code",
   "execution_count": 5,
   "id": "functional-timothy",
   "metadata": {},
   "outputs": [
    {
     "data": {
      "image/png": "[encoded data removed]",
      "text/plain": [
       "plot without title"
      ]
     },
     "metadata": {
      "image/png": {
       "height": 420,
       "width": 420
      }
     },
     "output_type": "display_data"
    }
   ],
   "source": [
    "plot(pbday)"
   ]
  },
  {
   "cell_type": "code",
   "execution_count": null,
   "id": "medical-george",
   "metadata": {},
   "outputs": [],
   "source": []
  }
 ],
 "metadata": {
  "kernelspec": {
   "display_name": "R",
   "language": "R",
   "name": "ir"
  },
  "language_info": {
   "codemirror_mode": "r",
   "file_extension": ".r",
   "mimetype": "text/x-r-source",
   "name": "R",
   "pygments_lexer": "r",
   "version": "4.0.3"
  }
 },
 "nbformat": 4,
 "nbformat_minor": 5
}
