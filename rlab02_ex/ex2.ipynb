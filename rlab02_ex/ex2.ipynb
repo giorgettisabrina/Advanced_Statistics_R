{
 "cells": [
  {
   "cell_type": "code",
   "execution_count": 2,
   "id": "vertical-collector",
   "metadata": {},
   "outputs": [
    {
     "data": {
      "text/html": [
       "<style>.container { width:95% !important; }</style>"
      ]
     },
     "metadata": {},
     "output_type": "display_data"
    }
   ],
   "source": [
    "library(tibble)\n",
    "# for full width\n",
    "IRdisplay::display_html('<style>.container { width:95% !important; }</style>')"
   ]
  },
  {
   "cell_type": "markdown",
   "id": "clear-appendix",
   "metadata": {},
   "source": [
    "## Exercise 1"
   ]
  },
  {
   "cell_type": "code",
   "execution_count": 26,
   "id": "crazy-mainstream",
   "metadata": {},
   "outputs": [
    {
     "data": {
      "text/html": [
       "15.959"
      ],
      "text/latex": [
       "15.959"
      ],
      "text/markdown": [
       "15.959"
      ],
      "text/plain": [
       "[1] 15.959"
      ]
     },
     "metadata": {},
     "output_type": "display_data"
    },
    {
     "data": {
      "text/html": [
       "15.9622"
      ],
      "text/latex": [
       "15.9622"
      ],
      "text/markdown": [
       "15.9622"
      ],
      "text/plain": [
       "[1] 15.9622"
      ]
     },
     "metadata": {},
     "output_type": "display_data"
    },
    {
     "data": {
      "text/html": [
       "0.033979"
      ],
      "text/latex": [
       "0.033979"
      ],
      "text/markdown": [
       "0.033979"
      ],
      "text/plain": [
       "[1] 0.033979"
      ]
     },
     "metadata": {},
     "output_type": "display_data"
    },
    {
     "data": {
      "text/html": [
       "0.02816716"
      ],
      "text/latex": [
       "0.02816716"
      ],
      "text/markdown": [
       "0.02816716"
      ],
      "text/plain": [
       "[1] 0.02816716"
      ]
     },
     "metadata": {},
     "output_type": "display_data"
    }
   ],
   "source": [
    "# A set of measurements have been performed on the concentration of a contaminantin tap water. \n",
    "#The following tables reports a set of values (x), with the corresponding\n",
    "#probabilities given by the two methods (p1 and p2)\n",
    "\n",
    "x <- c(15.58,15.9,16,16.1,16.2)\n",
    "p1 <- c(0.15,0.21,0.35,0.15,0.14)\n",
    "p2 <- c(0.14,0.05,0.64,0.08,0.09)\n",
    "\n",
    "#Evaluate the expected values,E[X], and the variance,Var(X), for both methods\n",
    "\n",
    "mean_p1 <- sum(x*p1)  #c(x %*% p1), weighted.mean()\n",
    "mean_p1\n",
    "\n",
    "mean_p2 <- sum(x*p2)\n",
    "mean_p2\n",
    "\n",
    "\n",
    "var_p1 <- sum((x-mean_p1)^2 * p1) #sum(x^2*p1)-mean_p1^2\n",
    "var_p1\n",
    "\n",
    "var_p2 <- sum((x-mean_p2)^2 * p2) #sum(x^2*p2)-mean_p2^2\n",
    "var_p2"
   ]
  },
  {
   "cell_type": "markdown",
   "id": "interesting-repeat",
   "metadata": {},
   "source": [
    "## Exercise 2"
   ]
  },
  {
   "cell_type": "markdown",
   "id": "global-sacramento",
   "metadata": {},
   "source": [
    "The waiting time, in minutes, at the doctor’s is about 30 minutes, and the distribution follows an exponential pdf with rate 1/30"
   ]
  },
  {
   "cell_type": "markdown",
   "id": "banned-registrar",
   "metadata": {},
   "source": [
    "A. Simulate the waiting time for 50 people at the doctor’s office and plot the relative histogram"
   ]
  },
  {
   "cell_type": "code",
   "execution_count": 70,
   "id": "dated-television",
   "metadata": {},
   "outputs": [],
   "source": [
    "lambda <- 1/30\n",
    "waiting_time <- rexp(50) #??? #random number according to the exponential distribution ???\n",
    "x <- 1:50 \n",
    "\n",
    "dist <- dexp(waiting_time, lambda)\n",
    "\n",
    "#WAITING TIME?\n",
    "\n",
    "#ERRORE NEL PLOT\n"
   ]
  },
  {
   "cell_type": "markdown",
   "id": "aerial-cincinnati",
   "metadata": {},
   "source": [
    "B. What is the probability that a person will wait for less than 10 minutes ?"
   ]
  },
  {
   "cell_type": "code",
   "execution_count": 72,
   "id": "fleet-perfume",
   "metadata": {},
   "outputs": [
    {
     "name": "stdout",
     "output_type": "stream",
     "text": [
      "P(x<10min)= 0.283468689426211"
     ]
    }
   ],
   "source": [
    "cat(paste(c(\"P(x<10min)=\",pexp(10,lambda)))) #???????????????????????????"
   ]
  },
  {
   "cell_type": "markdown",
   "id": "violent-planet",
   "metadata": {},
   "source": [
    "C. Evaluate  the  average  waiting  time  from  the  simulated  data  and  compare  it  with the  expected  value  (calculated  from  theory  and  by  manipulating  the  probability distributions using R)"
   ]
  },
  {
   "cell_type": "code",
   "execution_count": null,
   "id": "cleared-nothing",
   "metadata": {},
   "outputs": [],
   "source": [
    "#????????????????????????????????"
   ]
  },
  {
   "cell_type": "markdown",
   "id": "active-teach",
   "metadata": {},
   "source": [
    "D. What is the probability for waiting more than one hour before being received ?"
   ]
  },
  {
   "cell_type": "code",
   "execution_count": null,
   "id": "minor-maintenance",
   "metadata": {},
   "outputs": [],
   "source": [
    "#????????"
   ]
  },
  {
   "cell_type": "markdown",
   "id": "selective-crowd",
   "metadata": {},
   "source": [
    "## Exercise 3"
   ]
  },
  {
   "cell_type": "markdown",
   "id": "three-packing",
   "metadata": {},
   "source": [
    "Let’s suppose that on a book, on average, there is one typo error every three pages. If  the  number  of  errors  follows  a  Poisson  distribution,  plot  the  pdf  and  cdf,  and calculate the probability that there is at least one error on a specific page of the book."
   ]
  },
  {
   "cell_type": "code",
   "execution_count": null,
   "id": "liable-clark",
   "metadata": {},
   "outputs": [],
   "source": [
    "# typo every threee pages \n",
    "\n",
    "#poisson distribution\n",
    "\n",
    "#plot the pdf and the cdf\n",
    "\n",
    "#calculate the probability that there is at least one error on a specific page of the book"
   ]
  },
  {
   "cell_type": "markdown",
   "id": "super-selection",
   "metadata": {},
   "source": [
    "## Exercise 4"
   ]
  },
  {
   "cell_type": "markdown",
   "id": "particular-smooth",
   "metadata": {},
   "source": [
    "We randomly draw cards from a deck of 52 cards, with replacement, until one ace isdrawn.  Calculate the probability that at least 10 draws are needed"
   ]
  },
  {
   "cell_type": "code",
   "execution_count": null,
   "id": "precise-chamber",
   "metadata": {},
   "outputs": [],
   "source": []
  },
  {
   "cell_type": "markdown",
   "id": "front-algeria",
   "metadata": {},
   "source": [
    "## Exercise 5"
   ]
  },
  {
   "cell_type": "markdown",
   "id": "electoral-intention",
   "metadata": {},
   "source": [
    "The time it takes a student to complete a TOLC-I University orientation and eval-uation test follows a density function of the form:\n",
    " \n",
    "###############\n",
    "\n",
    "wheretis the time in hours."
   ]
  },
  {
   "cell_type": "markdown",
   "id": "spiritual-repeat",
   "metadata": {},
   "source": [
    "A. Using the integrate() R function, determine the constant c (and verify it analytically)"
   ]
  },
  {
   "cell_type": "code",
   "execution_count": null,
   "id": "impressive-calvin",
   "metadata": {},
   "outputs": [],
   "source": []
  },
  {
   "cell_type": "markdown",
   "id": "desperate-shepherd",
   "metadata": {},
   "source": [
    "B. Write the set of four R functions and plot the pdf and cdf, respectively"
   ]
  },
  {
   "cell_type": "code",
   "execution_count": null,
   "id": "established-passing",
   "metadata": {},
   "outputs": [],
   "source": []
  },
  {
   "cell_type": "markdown",
   "id": "pediatric-december",
   "metadata": {},
   "source": [
    "C. Evaluate the probability that the student will finish the aptitude test in more than 75 minutes.  And that it will take 90 and 120 minutes."
   ]
  },
  {
   "cell_type": "code",
   "execution_count": null,
   "id": "matched-diameter",
   "metadata": {},
   "outputs": [],
   "source": []
  },
  {
   "cell_type": "markdown",
   "id": "necessary-beast",
   "metadata": {},
   "source": [
    "## Exercise 6"
   ]
  },
  {
   "cell_type": "markdown",
   "id": "allied-million",
   "metadata": {},
   "source": [
    "The lifetime of tires sold by an used tires shop is 10^4·x km, where x is a random variable following the distribution funcion\n",
    "\n",
    "##########################"
   ]
  },
  {
   "cell_type": "markdown",
   "id": "equal-setup",
   "metadata": {},
   "source": [
    "A. Write the set of four R functions and plot the pdf and cdf, respectively"
   ]
  },
  {
   "cell_type": "code",
   "execution_count": null,
   "id": "radical-dominant",
   "metadata": {},
   "outputs": [],
   "source": []
  },
  {
   "cell_type": "markdown",
   "id": "complex-concentrate",
   "metadata": {},
   "source": [
    "B. Determine the probability that tires will last less than 15000 km"
   ]
  },
  {
   "cell_type": "code",
   "execution_count": null,
   "id": "floating-drawing",
   "metadata": {},
   "outputs": [],
   "source": []
  },
  {
   "cell_type": "markdown",
   "id": "approved-consultation",
   "metadata": {},
   "source": [
    "C. Sample 3000 random variables from the distribution and determine the mean value and the variance, using the expression Var(X) =E[X^2]−E[X]^2"
   ]
  },
  {
   "cell_type": "code",
   "execution_count": null,
   "id": "binding-presentation",
   "metadata": {},
   "outputs": [],
   "source": []
  }
 ],
 "metadata": {
  "kernelspec": {
   "display_name": "R",
   "language": "R",
   "name": "ir"
  },
  "language_info": {
   "codemirror_mode": "r",
   "file_extension": ".r",
   "mimetype": "text/x-r-source",
   "name": "R",
   "pygments_lexer": "r",
   "version": "4.0.3"
  }
 },
 "nbformat": 4,
 "nbformat_minor": 5
}
